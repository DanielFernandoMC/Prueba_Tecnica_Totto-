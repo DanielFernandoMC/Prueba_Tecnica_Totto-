{
  "nbformat": 4,
  "nbformat_minor": 0,
  "metadata": {
    "colab": {
      "provenance": [],
      "authorship_tag": "ABX9TyNNhy5y4Igu5Hq1J3O6aoVb",
      "include_colab_link": true
    },
    "kernelspec": {
      "name": "python3",
      "display_name": "Python 3"
    },
    "language_info": {
      "name": "python"
    }
  },
  "cells": [
    {
      "cell_type": "markdown",
      "metadata": {
        "id": "view-in-github",
        "colab_type": "text"
      },
      "source": [
        "<a href=\"https://colab.research.google.com/github/DanielFernandoMC/Prueba_Tecnica_Totto-/blob/main/2.%20Desarrollo_Prueba_T%C3%A9cnica.ipynb\" target=\"_parent\"><img src=\"https://colab.research.google.com/assets/colab-badge.svg\" alt=\"Open In Colab\"/></a>"
      ]
    },
    {
      "cell_type": "markdown",
      "source": [
        "#1. Se realiza el proceso ETL de los datos"
      ],
      "metadata": {
        "id": "BHubrQ90u64e"
      }
    },
    {
      "cell_type": "code",
      "source": [
        "import pandas as pd\n",
        "\n",
        "# Cargar archivos CSV con fechas parseadas\n",
        "ventas = pd.read_csv(\"ventas.csv\", parse_dates=[\"fecha_venta\"], sep=\",\" )\n",
        "clientes = pd.read_csv(\"clientes.csv\", parse_dates=[\"fecha_registro\"], sep=\",\")\n",
        "tiendas = pd.read_csv(\"tiendas.csv\", parse_dates=[\"fecha_apertura\"], sep=\",\")\n",
        "productos = pd.read_csv(\"productos.csv\", sep=\",\")\n",
        "\n",
        "# Normalizar nombres de columnas (snake_case)\n",
        "ventas.columns = ventas.columns.str.lower().str.strip().str.replace(\" \", \"_\")\n",
        "clientes.columns = clientes.columns.str.lower().str.strip().str.replace(\" \", \"_\")\n",
        "tiendas.columns = tiendas.columns.str.lower().str.strip().str.replace(\" \", \"_\")\n",
        "productos.columns = productos.columns.str.lower().str.strip().str.replace(\" \", \"_\")\n",
        "\n",
        "# Unificar tipos de ID como string\n",
        "ventas[\"id_cliente\"] = ventas[\"id_cliente\"].astype(str)\n",
        "ventas[\"id_producto\"] = ventas[\"id_producto\"].astype(str)\n",
        "ventas[\"id_tienda\"] = ventas[\"id_tienda\"].astype(str)\n",
        "clientes[\"id_cliente\"] = clientes[\"id_cliente\"].astype(str)\n",
        "productos[\"id_producto\"] = productos[\"id_producto\"].astype(str)\n",
        "tiendas[\"id_tienda\"] = tiendas[\"id_tienda\"].astype(str)\n",
        "\n",
        "# Añadir columnas derivadas a ventas\n",
        "ventas[\"año\"] = ventas[\"fecha_venta\"].dt.year\n",
        "ventas[\"mes\"] = ventas[\"fecha_venta\"].dt.month\n",
        "ventas[\"margen_unitario\"] = ventas[\"precio_unitario\"] - ventas[\"descuento\"]\n",
        "ventas[\"valor_total\"] = (ventas[\"precio_unitario\"] - ventas[\"descuento\"]) * ventas[\"cantidad\"]\n",
        "\n",
        "# Vista previa de los DF\n",
        "ventas.info()\n",
        "print(ventas.head())\n",
        "print()\n",
        "clientes.info()\n",
        "print(clientes.head())\n",
        "print()\n",
        "tiendas.info()\n",
        "print(tiendas.head())\n",
        "print()\n",
        "productos.info()\n",
        "print(productos.head())\n"
      ],
      "metadata": {
        "colab": {
          "base_uri": "https://localhost:8080/"
        },
        "id": "GuQ_Mi2vx3cK",
        "outputId": "ba38dcc4-a5e4-42ab-9d09-39e580b384b7"
      },
      "execution_count": 1,
      "outputs": [
        {
          "output_type": "stream",
          "name": "stdout",
          "text": [
            "<class 'pandas.core.frame.DataFrame'>\n",
            "RangeIndex: 158190 entries, 0 to 158189\n",
            "Data columns (total 13 columns):\n",
            " #   Column           Non-Null Count   Dtype         \n",
            "---  ------           --------------   -----         \n",
            " 0   id_venta         158190 non-null  int64         \n",
            " 1   fecha_venta      158190 non-null  datetime64[ns]\n",
            " 2   id_cliente       158190 non-null  object        \n",
            " 3   id_producto      158190 non-null  object        \n",
            " 4   id_tienda        158190 non-null  object        \n",
            " 5   cantidad         158190 non-null  int64         \n",
            " 6   precio_unitario  158190 non-null  float64       \n",
            " 7   descuento        158190 non-null  float64       \n",
            " 8   monto_venta      158190 non-null  float64       \n",
            " 9   año              158190 non-null  int32         \n",
            " 10  mes              158190 non-null  int32         \n",
            " 11  margen_unitario  158190 non-null  float64       \n",
            " 12  valor_total      158190 non-null  float64       \n",
            "dtypes: datetime64[ns](1), float64(5), int32(2), int64(2), object(3)\n",
            "memory usage: 14.5+ MB\n",
            "   id_venta fecha_venta id_cliente id_producto id_tienda  cantidad  \\\n",
            "0         1  2024-09-28        755         122         9         3   \n",
            "1         2  2023-06-28       1994          95         4         3   \n",
            "2         3  2023-02-08        135         127        10         4   \n",
            "3         4  2023-01-03       1996         107        38         2   \n",
            "4         5  2023-03-05       1980          16        25         3   \n",
            "\n",
            "   precio_unitario  descuento  monto_venta   año  mes  margen_unitario  \\\n",
            "0        104027.76       0.10   280874.952  2024    9        104027.66   \n",
            "1         95730.38       0.00   287191.140  2023    6         95730.38   \n",
            "2        120929.98       0.05   459533.924  2023    2        120929.93   \n",
            "3        108735.39       0.00   217470.780  2023    1        108735.39   \n",
            "4         87060.24       0.15   222003.612  2023    3         87060.09   \n",
            "\n",
            "   valor_total  \n",
            "0    312082.98  \n",
            "1    287191.14  \n",
            "2    483719.72  \n",
            "3    217470.78  \n",
            "4    261180.27  \n",
            "\n",
            "<class 'pandas.core.frame.DataFrame'>\n",
            "RangeIndex: 2000 entries, 0 to 1999\n",
            "Data columns (total 5 columns):\n",
            " #   Column             Non-Null Count  Dtype         \n",
            "---  ------             --------------  -----         \n",
            " 0   id_cliente         2000 non-null   object        \n",
            " 1   genero             2000 non-null   object        \n",
            " 2   edad               2000 non-null   int64         \n",
            " 3   ciudad_residencia  2000 non-null   object        \n",
            " 4   fecha_registro     2000 non-null   datetime64[ns]\n",
            "dtypes: datetime64[ns](1), int64(1), object(3)\n",
            "memory usage: 78.3+ KB\n",
            "  id_cliente genero  edad ciudad_residencia fecha_registro\n",
            "0          1      M    64          Medellin     2020-04-15\n",
            "1          2      F    29         Bogota DC     2020-06-29\n",
            "2          3      M    33         SanAndres     2020-07-02\n",
            "3          4      M    41              Cali     2020-08-13\n",
            "4          5      M    36         SanAndres     2022-02-15\n",
            "\n",
            "<class 'pandas.core.frame.DataFrame'>\n",
            "RangeIndex: 50 entries, 0 to 49\n",
            "Data columns (total 5 columns):\n",
            " #   Column          Non-Null Count  Dtype         \n",
            "---  ------          --------------  -----         \n",
            " 0   id_tienda       50 non-null     object        \n",
            " 1   nombre_tienda   50 non-null     object        \n",
            " 2   ciudad          50 non-null     object        \n",
            " 3   tipo_tienda     50 non-null     object        \n",
            " 4   fecha_apertura  50 non-null     datetime64[ns]\n",
            "dtypes: datetime64[ns](1), object(4)\n",
            "memory usage: 2.1+ KB\n",
            "  id_tienda nombre_tienda         ciudad   tipo_tienda fecha_apertura\n",
            "0         1      Tienda_1      Cartagena  Distribuidor     2022-12-07\n",
            "1         2      Tienda_2       Medellin  Distribuidor     2021-02-22\n",
            "2         3      Tienda_3       Medellin  Distribuidor     2015-01-19\n",
            "3         4      Tienda_4    Bogota D.C.        Outlet     2016-10-03\n",
            "4         5      Tienda_5  Villavicencio    Franquicia     2018-01-09\n",
            "\n",
            "<class 'pandas.core.frame.DataFrame'>\n",
            "RangeIndex: 245 entries, 0 to 244\n",
            "Data columns (total 7 columns):\n",
            " #   Column           Non-Null Count  Dtype  \n",
            "---  ------           --------------  -----  \n",
            " 0   id_producto      245 non-null    object \n",
            " 1   nombre_producto  245 non-null    object \n",
            " 2   linea            245 non-null    object \n",
            " 3   marca            245 non-null    object \n",
            " 4   unidad_negocio   245 non-null    object \n",
            " 5   costo_unitario   245 non-null    float64\n",
            " 6   precio_lista     245 non-null    float64\n",
            "dtypes: float64(2), object(5)\n",
            "memory usage: 13.5+ KB\n",
            "  id_producto nombre_producto            linea marca unidad_negocio  \\\n",
            "0           1      Producto_1            BOLSO  LAND      MALETINES   \n",
            "1           2      Producto_2         SHOPPING  LAND      MALETINES   \n",
            "2           3      Producto_3    UNIVERSITARIO  LAND      MALETINES   \n",
            "3           4      Producto_4         BODY BAG  LAND      MALETINES   \n",
            "4           5      Producto_5  MALETA DE VIAJE  LAND      MALETINES   \n",
            "\n",
            "   costo_unitario  precio_lista  \n",
            "0        50480.12      75991.53  \n",
            "1        72112.60     106127.74  \n",
            "2        79626.54     108866.73  \n",
            "3        69400.72     123208.70  \n",
            "4        53416.12      68676.50  \n"
          ]
        }
      ]
    },
    {
      "cell_type": "code",
      "source": [],
      "metadata": {
        "id": "s8nFNtHi0Hln"
      },
      "execution_count": null,
      "outputs": []
    }
  ]
}