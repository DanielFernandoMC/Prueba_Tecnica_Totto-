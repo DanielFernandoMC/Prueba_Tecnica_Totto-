{
  "nbformat": 4,
  "nbformat_minor": 0,
  "metadata": {
    "colab": {
      "provenance": [],
      "authorship_tag": "ABX9TyMgBftSDjRoSk90tydfbGwQ",
      "include_colab_link": true
    },
    "kernelspec": {
      "name": "python3",
      "display_name": "Python 3"
    },
    "language_info": {
      "name": "python"
    }
  },
  "cells": [
    {
      "cell_type": "markdown",
      "metadata": {
        "id": "view-in-github",
        "colab_type": "text"
      },
      "source": [
        "<a href=\"https://colab.research.google.com/github/DanielFernandoMC/Prueba_Tecnica_Totto-/blob/main/1.Desarrollo_Prueba_T%C3%A9cnica.ipynb\" target=\"_parent\"><img src=\"https://colab.research.google.com/assets/colab-badge.svg\" alt=\"Open In Colab\"/></a>"
      ]
    },
    {
      "cell_type": "markdown",
      "source": [
        "# Desarrollo Prueba Técnica: Profesional de Data y Analítica"
      ],
      "metadata": {
        "id": "CD_i_qDkJP8I"
      }
    },
    {
      "cell_type": "markdown",
      "source": [
        "### Elaborado por: Daniel Fernando Manosalva Cáceres\n",
        "### Agosto 2025"
      ],
      "metadata": {
        "id": "eQczz-RIK6ax"
      }
    },
    {
      "cell_type": "markdown",
      "source": [
        "## Parte Conceptual"
      ],
      "metadata": {
        "id": "nAYpdfvrJgj-"
      }
    },
    {
      "cell_type": "markdown",
      "source": [
        "### 1. ¿Pueden A y B ser mutuamente excluyentes?"
      ],
      "metadata": {
        "id": "_B2c4lReJcvA"
      }
    },
    {
      "cell_type": "markdown",
      "source": [
        "#### Sean A y B dos eventos con P(A) = 1/2 y P(B^C) = 1/4 . ¿Pueden ser A y B mutuamente excluyentes?"
      ],
      "metadata": {
        "id": "2xnRTVIBMQo2"
      }
    },
    {
      "cell_type": "markdown",
      "source": [
        "- \\(P(A) = \\frac{1}{2}, P(B^C) = \\frac{1}{4} \\Rightarrow P(B) = \\frac{3}{4}\\)\n",
        "- Para que sean mutuamente excluyentes: \\(P(A \\cap B) = 0\\)\n",
        "- Pero: \\(P(A) + P(B) = \\frac{1}{2} + \\frac{3}{4} = \\frac{5}{4} > 1\\) → Es imposible"
      ],
      "metadata": {
        "id": "dkeucgRLOYsN"
      }
    },
    {
      "cell_type": "markdown",
      "source": [],
      "metadata": {
        "id": "0XMIOqY6PFAX"
      }
    }
  ]
}