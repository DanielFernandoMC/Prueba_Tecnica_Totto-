{
 "cells": [
  {
   "cell_type": "markdown",
   "metadata": {},
   "source": [
    "# Parte Conceptual - Prueba Técnica Totto\n",
    "### Autor: Daniel Fernando Manosalva Cáceres\n",
    "### Fecha: Agosto 2025\n",
    "\n",
    "Este cuaderno contiene el desarrollo de la sección conceptual de la prueba técnica para el cargo de Analista Comercial."
   ]
  },
  {
   "cell_type": "markdown",
   "metadata": {},
   "source": [
    "## 1. ¿Pueden A y B ser mutuamente excluyentes?\n",
    "- P(A) = 1/2, P(B^C) = 1/4  P(B) = 3/4\n",
    "- Para que sean mutuamente excluyentes: P(A ∩ B) = 0, sin embargo, la probabilidad total no puede superar 1.\n",
    "- P(A∩B)=P(A)+P(B)−P(A∪B)≤P(A)+P(B)= 1/2 + 3/4 =5/4\n",
    "\n",
    "**Respuesta:** No pueden ser mutuamente excluyentes porque la suma de sus probabilidades excede 1."
   ]
  },
  {
   "cell_type": "markdown",
   "metadata": {},
   "source": [
    "## 2. Control de Calidad - Barras de Chocolate\n",
    "**Datos:**\n",
    "- Tamaño muestra: 15\n",
    "- σ conocida: 2\n",
    "- μ objetivo: 100\n",
    "- α: 0.05"
   ]
  },
  {
   "cell_type": "code",
   "execution_count": 7,
   "metadata": {},
   "outputs": [
    {
     "name": "stdout",
     "output_type": "stream",
     "text": [
      "Media muestral: 97.95\n",
      "Z (dos colas): -3.974, p-valor: 0.000071\n",
      "Z (una cola): -3.974, p-valor: 0.000035\n"
     ]
    }
   ],
   "source": [
    "import numpy as np\n",
    "from scipy.stats import norm\n",
    "\n",
    "barras = np.array([94.40, 97.64, 98.48, 97.67, 100.11,\n",
    "                  95.29, 99.80, 98.80, 100.53, 99.41,\n",
    "                  97.64, 101.11, 93.43, 96.99, 97.92])\n",
    "\n",
    "n = len(barras)\n",
    "sigma = 2\n",
    "mu = 100\n",
    "x_bar = np.mean(barras)\n",
    "z_2_colas = (x_bar - mu) / (sigma / np.sqrt(n))\n",
    "p_2_colas = 2 * norm.sf(abs(z_2_colas))\n",
    "\n",
    "z_izquierda = z_2_colas\n",
    "p_izquierda = norm.cdf(z_izquierda)\n",
    "\n",
    "print(f\"Media muestral: {x_bar:.2f}\")\n",
    "print(f\"Z (dos colas): {z_2_colas:.3f}, p-valor: {p_2_colas:.6f}\")\n",
    "print(f\"Z (una cola): {z_izquierda:.3f}, p-valor: {p_izquierda:.6f}\")"
   ]
  },
  {
   "cell_type": "markdown",
   "id": "54b06310",
   "metadata": {},
   "source": [
    "#### a) ¿Cuáles son las hipótesis respecto al peso esperado μ para una prueba de dos colas?\n",
    "Z de dos colas\n",
    "- Estadístico Z: -3.97\n",
    "- p-valor: 0.000071\n",
    "Rechazamos 𝐻0. Hay evidencia significativa de que el peso promedio no es igual a 100g.\n",
    "\n",
    "#### b) ¿Qué prueba debe utilizarse para contrastar estas hipótesis?\n",
    "Se conoce 𝜎=2 (desviación estándar poblacional) y n = 15.\n",
    "Usamos la prueba Z de una muestra (no T porque σ es conocida).\n",
    "\n",
    "#### c) Realice la prueba que sugirió en (b). Use α = 0,05.\n",
    "Comparar con el valor crítico Z (α/2 = 0.025) =  ±1.96\n",
    "\n",
    "#### d) El productor quiere demostrar que el peso esperado es menor que 100 g. ¿Cuáles son las hipótesis apropiadas para usar?\n",
    "Es una prueba de cola izquierda porque el interés está en detectar una disminución respecto al valor de referencia.\n",
    "Z de una cola (izquierda)\n",
    "- Estadístico Z: -3.97\n",
    "- p-valor: 0.000035\n",
    "Rechazamos 𝐻0. Hay evidencia para afirmar que el peso promedio es menor a 100g.\n",
    "\n",
    "#### e) Realice la prueba para la hip´otesis en (d). Nuevamente use α = 0,05.\n",
    "Como el estadístico Z = -3.974 < -1.645 y el p-valor < 0.05, se rechaza la hipótesis nula.\n"
   ]
  },
  {
   "cell_type": "markdown",
   "metadata": {},
   "source": [
    "### Interpretación:\n",
    "- Z = -3.97, p < 0.05\n",
    "- Rechazamos H0 en ambos casos (dos colas y una cola)\n",
    "- **Conclusión:** Existe evidencia estadística suficiente para afirmar que el peso promedio es menor que 100 gramos. "
   ]
  },
  {
   "cell_type": "markdown",
   "metadata": {},
   "source": [
    "## 3. Regresión - Horas de Sueño vs Internet"
   ]
  },
  {
   "cell_type": "markdown",
   "id": "9e95f292",
   "metadata": {},
   "source": [
    "a) Estimar el modelo de regresión lineal"
   ]
  },
  {
   "cell_type": "code",
   "execution_count": 5,
   "metadata": {},
   "outputs": [
    {
     "name": "stdout",
     "output_type": "stream",
     "text": [
      "Modelo continuo:\n",
      "Beta_0 (intercepto): 6.155\n",
      "Beta_1 (pendiente): -0.450\n",
      "R²: 0.448\n"
     ]
    }
   ],
   "source": [
    "from sklearn.linear_model import LinearRegression\n",
    "from sklearn.metrics import r2_score\n",
    "\n",
    "internet = np.array([0.3, 2.2, 0.5, 0.7, 1.0, 1.8, 3.0, 0.2, 2.3])\n",
    "sueno = np.array([5.8, 4.4, 6.5, 5.8, 5.6, 5.0, 4.8, 6.0, 6.1])\n",
    "\n",
    "# Regresión continua\n",
    "X_cont = internet.reshape(-1, 1)\n",
    "y = sueno\n",
    "reg_cont = LinearRegression().fit(X_cont, y)\n",
    "y_pred_cont = reg_cont.predict(X_cont)\n",
    "r2_cont = r2_score(y, y_pred_cont)\n",
    "\n",
    "print(\"Modelo continuo:\")\n",
    "print(f\"Beta_0 (intercepto): {reg_cont.intercept_:.3f}\")\n",
    "print(f\"Beta_1 (pendiente): {reg_cont.coef_[0]:.3f}\")\n",
    "print(f\"R²: {r2_cont:.3f}\")"
   ]
  },
  {
   "cell_type": "markdown",
   "id": "39877d35",
   "metadata": {},
   "source": [
    "b) Calcule R2 para evaluar el grado de ajuste del modelo.\n",
    "\n",
    "R² ≈ 0.448"
   ]
  },
  {
   "cell_type": "markdown",
   "id": "3fe22242",
   "metadata": {},
   "source": [
    "**Interpretación:**\n",
    "\n",
    "β1 = −0.45: por cada hora adicional en internet, el sueño disminuye 0.45 horas (efecto negativo).\n",
    "\n",
    "𝛽0 = 6.155: valor estimado de sueño con 0 horas de internet.\n",
    "\n",
    "\n",
    "R² ≈ 0.448. Esto indica que aproximadamente el 45% de la variabilidad en el sueño profundo puede explicarse por el tiempo que los niños pasan en internet."
   ]
  },
  {
   "cell_type": "markdown",
   "id": "13832ecb",
   "metadata": {},
   "source": [
    "c) Ahora suponga que solo se distingue entre pasar más de 1 hora en internet (X = 1)\n",
    "y pasar una hora o menos en internet (X = 0). Estime nuevamente el modelo\n",
    "lineal y compare los resultados. ¿Cómo puede interpretarse ahora ˆ β? Describa\n",
    "cómo cambia ˆ β si se codifica con 0 a quienes pasan más de una hora en internet\n",
    "y con 1 a los dem´as."
   ]
  },
  {
   "cell_type": "code",
   "execution_count": 6,
   "metadata": {},
   "outputs": [
    {
     "name": "stdout",
     "output_type": "stream",
     "text": [
      "\n",
      "Modelo binario:\n",
      "Beta_0 (intercepto): 5.940\n",
      "Beta_1 (diferencia promedio): -0.865\n",
      "R²: 0.447\n"
     ]
    }
   ],
   "source": [
    "# Regresión binaria (X = 1 si >1h, 0 si <=1h)\n",
    "X_bin = (internet > 1).astype(int).reshape(-1, 1)\n",
    "reg_bin = LinearRegression().fit(X_bin, y)\n",
    "y_pred_bin = reg_bin.predict(X_bin)\n",
    "r2_bin = r2_score(y, y_pred_bin)\n",
    "\n",
    "print(\"\\nModelo binario:\")\n",
    "print(f\"Beta_0 (intercepto): {reg_bin.intercept_:.3f}\")\n",
    "print(f\"Beta_1 (diferencia promedio): {reg_bin.coef_[0]:.3f}\")\n",
    "print(f\"R²: {r2_bin:.3f}\")"
   ]
  },
  {
   "cell_type": "markdown",
   "metadata": {},
   "source": [
    "### Interpretación:\n",
    "β₀: 5.94 → promedio de sueño en niños que usan ≤1h de internet.\n",
    "\n",
    "β₁: -0.865 → los niños que usan >1h de internet duermen 0.865 horas menos que los demás.\n",
    "\n",
    "R² ≈ 0.447 → el ajuste del modelo binario es prácticamente igual al continuo."
   ]
  }
 ],
 "metadata": {
  "kernelspec": {
   "display_name": "Python 3",
   "language": "python",
   "name": "python3"
  },
  "language_info": {
   "codemirror_mode": {
    "name": "ipython",
    "version": 3
   },
   "file_extension": ".py",
   "mimetype": "text/x-python",
   "name": "python",
   "nbconvert_exporter": "python",
   "pygments_lexer": "ipython3",
   "version": "3.13.4"
  }
 },
 "nbformat": 4,
 "nbformat_minor": 5
}
