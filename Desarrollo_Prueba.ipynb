{
  "nbformat": 4,
  "nbformat_minor": 0,
  "metadata": {
    "colab": {
      "provenance": [],
      "mount_file_id": "12nn_kR6TA548aFjkd_1t5B4RIRWurej8",
      "authorship_tag": "ABX9TyPIyDa5lcsDHOS+R00lsECO",
      "include_colab_link": true
    },
    "kernelspec": {
      "name": "python3",
      "display_name": "Python 3"
    },
    "language_info": {
      "name": "python"
    }
  },
  "cells": [
    {
      "cell_type": "markdown",
      "metadata": {
        "id": "view-in-github",
        "colab_type": "text"
      },
      "source": [
        "<a href=\"https://colab.research.google.com/github/DanielFernandoMC/Prueba_Tecnica_Totto-/blob/main/Desarrollo_Prueba.ipynb\" target=\"_parent\"><img src=\"https://colab.research.google.com/assets/colab-badge.svg\" alt=\"Open In Colab\"/></a>"
      ]
    },
    {
      "cell_type": "markdown",
      "source": [
        "#1. Se realiza el proceso ETL de las bases de datos"
      ],
      "metadata": {
        "id": "BHubrQ90u64e"
      }
    },
    {
      "cell_type": "code",
      "source": [
        "import pandas as pd\n",
        "\n",
        "# Cargar archivos CSV con fechas parseadas\n",
        "ventas = pd.read_csv(\"ventas.csv\", parse_dates=[\"fecha_venta\"], sep=\",\" )\n",
        "clientes = pd.read_csv(\"clientes.csv\", parse_dates=[\"fecha_registro\"], sep=\",\")\n",
        "tiendas = pd.read_csv(\"tiendas.csv\", parse_dates=[\"fecha_apertura\"], sep=\",\")\n",
        "productos = pd.read_csv(\"productos.csv\", sep=\",\")\n",
        "\n",
        "# Normalizar nombres de columnas (snake_case)\n",
        "ventas.columns = ventas.columns.str.lower().str.strip().str.replace(\" \", \"_\")\n",
        "clientes.columns = clientes.columns.str.lower().str.strip().str.replace(\" \", \"_\")\n",
        "tiendas.columns = tiendas.columns.str.lower().str.strip().str.replace(\" \", \"_\")\n",
        "productos.columns = productos.columns.str.lower().str.strip().str.replace(\" \", \"_\")\n",
        "\n",
        "# Unificar tipos de ID como string\n",
        "ventas[\"id_cliente\"] = ventas[\"id_cliente\"].astype(str)\n",
        "ventas[\"id_producto\"] = ventas[\"id_producto\"].astype(str)\n",
        "ventas[\"id_tienda\"] = ventas[\"id_tienda\"].astype(str)\n",
        "clientes[\"id_cliente\"] = clientes[\"id_cliente\"].astype(str)\n",
        "productos[\"id_producto\"] = productos[\"id_producto\"].astype(str)\n",
        "tiendas[\"id_tienda\"] = tiendas[\"id_tienda\"].astype(str)\n",
        "\n",
        "# Añadir columnas derivadas a ventas\n",
        "ventas[\"año\"] = ventas[\"fecha_venta\"].dt.year\n",
        "ventas[\"mes\"] = ventas[\"fecha_venta\"].dt.month\n",
        "ventas[\"margen_unitario\"] = ventas[\"precio_unitario\"] - ventas[\"descuento\"]\n",
        "ventas[\"valor_total\"] = (ventas[\"precio_unitario\"] - ventas[\"descuento\"]) * ventas[\"cantidad\"]\n",
        "\n",
        "# Vista previa de los DF\n",
        "ventas.info()\n",
        "print(ventas.head())\n",
        "print()\n",
        "clientes.info()\n",
        "print(clientes.head())\n",
        "print()\n",
        "tiendas.info()\n",
        "print(tiendas.head())\n",
        "print()\n",
        "productos.info()\n",
        "print(productos.head())\n"
      ],
      "metadata": {
        "colab": {
          "base_uri": "https://localhost:8080/"
        },
        "id": "GuQ_Mi2vx3cK",
        "outputId": "7c0580f9-f295-485f-a0c5-d81b96889425"
      },
      "execution_count": 3,
      "outputs": [
        {
          "output_type": "stream",
          "name": "stdout",
          "text": [
            "<class 'pandas.core.frame.DataFrame'>\n",
            "RangeIndex: 158190 entries, 0 to 158189\n",
            "Data columns (total 13 columns):\n",
            " #   Column           Non-Null Count   Dtype         \n",
            "---  ------           --------------   -----         \n",
            " 0   id_venta         158190 non-null  int64         \n",
            " 1   fecha_venta      158190 non-null  datetime64[ns]\n",
            " 2   id_cliente       158190 non-null  object        \n",
            " 3   id_producto      158190 non-null  object        \n",
            " 4   id_tienda        158190 non-null  object        \n",
            " 5   cantidad         158190 non-null  int64         \n",
            " 6   precio_unitario  158190 non-null  float64       \n",
            " 7   descuento        158190 non-null  float64       \n",
            " 8   monto_venta      158190 non-null  float64       \n",
            " 9   año              158190 non-null  int32         \n",
            " 10  mes              158190 non-null  int32         \n",
            " 11  margen_unitario  158190 non-null  float64       \n",
            " 12  valor_total      158190 non-null  float64       \n",
            "dtypes: datetime64[ns](1), float64(5), int32(2), int64(2), object(3)\n",
            "memory usage: 14.5+ MB\n",
            "   id_venta fecha_venta id_cliente id_producto id_tienda  cantidad  \\\n",
            "0         1  2024-09-28        755         122         9         3   \n",
            "1         2  2023-06-28       1994          95         4         3   \n",
            "2         3  2023-02-08        135         127        10         4   \n",
            "3         4  2023-01-03       1996         107        38         2   \n",
            "4         5  2023-03-05       1980          16        25         3   \n",
            "\n",
            "   precio_unitario  descuento  monto_venta   año  mes  margen_unitario  \\\n",
            "0        104027.76       0.10   280874.952  2024    9        104027.66   \n",
            "1         95730.38       0.00   287191.140  2023    6         95730.38   \n",
            "2        120929.98       0.05   459533.924  2023    2        120929.93   \n",
            "3        108735.39       0.00   217470.780  2023    1        108735.39   \n",
            "4         87060.24       0.15   222003.612  2023    3         87060.09   \n",
            "\n",
            "   valor_total  \n",
            "0    312082.98  \n",
            "1    287191.14  \n",
            "2    483719.72  \n",
            "3    217470.78  \n",
            "4    261180.27  \n",
            "\n",
            "<class 'pandas.core.frame.DataFrame'>\n",
            "RangeIndex: 2000 entries, 0 to 1999\n",
            "Data columns (total 5 columns):\n",
            " #   Column             Non-Null Count  Dtype         \n",
            "---  ------             --------------  -----         \n",
            " 0   id_cliente         2000 non-null   object        \n",
            " 1   genero             2000 non-null   object        \n",
            " 2   edad               2000 non-null   int64         \n",
            " 3   ciudad_residencia  2000 non-null   object        \n",
            " 4   fecha_registro     2000 non-null   datetime64[ns]\n",
            "dtypes: datetime64[ns](1), int64(1), object(3)\n",
            "memory usage: 78.3+ KB\n",
            "  id_cliente genero  edad ciudad_residencia fecha_registro\n",
            "0          1      M    64          Medellin     2020-04-15\n",
            "1          2      F    29         Bogota DC     2020-06-29\n",
            "2          3      M    33         SanAndres     2020-07-02\n",
            "3          4      M    41              Cali     2020-08-13\n",
            "4          5      M    36         SanAndres     2022-02-15\n",
            "\n",
            "<class 'pandas.core.frame.DataFrame'>\n",
            "RangeIndex: 50 entries, 0 to 49\n",
            "Data columns (total 5 columns):\n",
            " #   Column          Non-Null Count  Dtype         \n",
            "---  ------          --------------  -----         \n",
            " 0   id_tienda       50 non-null     object        \n",
            " 1   nombre_tienda   50 non-null     object        \n",
            " 2   ciudad          50 non-null     object        \n",
            " 3   tipo_tienda     50 non-null     object        \n",
            " 4   fecha_apertura  50 non-null     datetime64[ns]\n",
            "dtypes: datetime64[ns](1), object(4)\n",
            "memory usage: 2.1+ KB\n",
            "  id_tienda nombre_tienda         ciudad   tipo_tienda fecha_apertura\n",
            "0         1      Tienda_1      Cartagena  Distribuidor     2022-12-07\n",
            "1         2      Tienda_2       Medellin  Distribuidor     2021-02-22\n",
            "2         3      Tienda_3       Medellin  Distribuidor     2015-01-19\n",
            "3         4      Tienda_4    Bogota D.C.        Outlet     2016-10-03\n",
            "4         5      Tienda_5  Villavicencio    Franquicia     2018-01-09\n",
            "\n",
            "<class 'pandas.core.frame.DataFrame'>\n",
            "RangeIndex: 245 entries, 0 to 244\n",
            "Data columns (total 7 columns):\n",
            " #   Column           Non-Null Count  Dtype  \n",
            "---  ------           --------------  -----  \n",
            " 0   id_producto      245 non-null    object \n",
            " 1   nombre_producto  245 non-null    object \n",
            " 2   linea            245 non-null    object \n",
            " 3   marca            245 non-null    object \n",
            " 4   unidad_negocio   245 non-null    object \n",
            " 5   costo_unitario   245 non-null    float64\n",
            " 6   precio_lista     245 non-null    float64\n",
            "dtypes: float64(2), object(5)\n",
            "memory usage: 13.5+ KB\n",
            "  id_producto nombre_producto            linea marca unidad_negocio  \\\n",
            "0           1      Producto_1            BOLSO  LAND      MALETINES   \n",
            "1           2      Producto_2         SHOPPING  LAND      MALETINES   \n",
            "2           3      Producto_3    UNIVERSITARIO  LAND      MALETINES   \n",
            "3           4      Producto_4         BODY BAG  LAND      MALETINES   \n",
            "4           5      Producto_5  MALETA DE VIAJE  LAND      MALETINES   \n",
            "\n",
            "   costo_unitario  precio_lista  \n",
            "0        50480.12      75991.53  \n",
            "1        72112.60     106127.74  \n",
            "2        79626.54     108866.73  \n",
            "3        69400.72     123208.70  \n",
            "4        53416.12      68676.50  \n"
          ]
        }
      ]
    },
    {
      "cell_type": "markdown",
      "source": [
        "# 2. Análisis de datos"
      ],
      "metadata": {
        "id": "DmceOLVn6x2x"
      }
    },
    {
      "cell_type": "markdown",
      "source": [
        "#### a) Identificar los 5 productos más vendidos por tipo de tienda en el último trimestre (octubre - diciembre 2024), incluyendo el margen de ganancia promedio para cada producto."
      ],
      "metadata": {
        "id": "J743imgd-TpJ"
      }
    },
    {
      "cell_type": "code",
      "source": [
        "# Fusionar ventas con productos y tiendas\n",
        "ventas_prod = ventas.merge(productos, on=\"id_producto\", how=\"left\")\n",
        "ventas_full = ventas_prod.merge(tiendas, on=\"id_tienda\", how=\"left\")\n",
        "\n",
        "# Filtrar último trimestre 2024\n",
        "ventas_q4 = ventas_full[\n",
        "    (ventas_full[\"fecha_venta\"] >= \"2024-10-01\") &\n",
        "    (ventas_full[\"fecha_venta\"] <= \"2024-12-31\")\n",
        "].copy()\n",
        "\n",
        "# Calcular margen real unitario\n",
        "ventas_q4[\"margen_unitario\"] = ventas_q4[\"precio_unitario\"] - ventas_q4[\"costo_unitario\"]\n",
        "\n",
        "# Agrupar por tipo tienda y producto\n",
        "agg = (\n",
        "    ventas_q4.groupby([\"tipo_tienda\", \"id_producto\", \"nombre_producto\"])\n",
        "    .agg(\n",
        "        cantidad_total=(\"cantidad\", \"sum\"),\n",
        "        margen_promedio=(\"margen_unitario\", \"mean\")\n",
        "    )\n",
        "    .reset_index()\n",
        ")\n",
        "\n",
        "# Top 5 por tipo de tienda\n",
        "top5_por_tipo = agg.sort_values([\"tipo_tienda\", \"cantidad_total\"], ascending=[True, False])\n",
        "top5_final = top5_por_tipo.groupby(\"tipo_tienda\").head(5).reset_index(drop=True)\n",
        "print(top5_final)"
      ],
      "metadata": {
        "id": "s8nFNtHi0Hln",
        "colab": {
          "base_uri": "https://localhost:8080/"
        },
        "outputId": "ec1c1de9-7492-423e-a0e1-113a14d7ff82"
      },
      "execution_count": 4,
      "outputs": [
        {
          "output_type": "stream",
          "name": "stdout",
          "text": [
            "     tipo_tienda id_producto nombre_producto  cantidad_total  margen_promedio\n",
            "0   Distribuidor         129    Producto_129             100         14728.52\n",
            "1   Distribuidor         111    Producto_111              92         40394.22\n",
            "2   Distribuidor          10     Producto_10              89         55421.72\n",
            "3   Distribuidor         169    Producto_169              87         35764.73\n",
            "4   Distribuidor         226    Producto_226              87         38899.00\n",
            "5     Franquicia         122    Producto_122             117         40740.86\n",
            "6     Franquicia         217    Producto_217             112         41330.00\n",
            "7     Franquicia          61     Producto_61             107         41242.51\n",
            "8     Franquicia         141    Producto_141             105         35618.73\n",
            "9     Franquicia          16     Producto_16             104         29261.91\n",
            "10        Outlet          97     Producto_97             117         54763.47\n",
            "11        Outlet         195    Producto_195             113         18518.40\n",
            "12        Outlet         113    Producto_113             112         65714.65\n",
            "13        Outlet         182    Producto_182             112         26194.22\n",
            "14        Outlet          45     Producto_45             108         55559.90\n"
          ]
        }
      ]
    },
    {
      "cell_type": "markdown",
      "source": [
        "#### b) Desarrolle un análisis de cohorte mensual para evaluar la retención de clientes. Defina la cohorte como el mes de primera compra de cliente.\n"
      ],
      "metadata": {
        "id": "iJeOdyfH_hOb"
      }
    },
    {
      "cell_type": "code",
      "source": [
        "# Unir ventas con fecha de venta y cliente\n",
        "ventas_clientes = ventas.merge(clientes, on=\"id_cliente\", how=\"left\")\n",
        "\n",
        "# Obtener la fecha de primera compra (cohorte)\n",
        "ventas_clientes[\"cohorte\"] = ventas_clientes.groupby(\"id_cliente\")[\"fecha_venta\"].transform(\"min\")\n",
        "\n",
        "# Extraer año-mes\n",
        "ventas_clientes[\"cohorte_m\"] = ventas_clientes[\"cohorte\"].dt.to_period(\"M\")\n",
        "ventas_clientes[\"venta_m\"] = ventas_clientes[\"fecha_venta\"].dt.to_period(\"M\")\n",
        "\n",
        "# Calcular el índice de retención mensual\n",
        "cohort_data = ventas_clientes.groupby([\"cohorte_m\", \"venta_m\"])[\"id_cliente\"].nunique().reset_index()\n",
        "\n",
        "# Pivotear: cohorte como fila, mes de venta como columna\n",
        "cohort_pivot = cohort_data.pivot(index=\"cohorte_m\", columns=\"venta_m\", values=\"id_cliente\")\n",
        "\n",
        "# Normalizar por la primera columna (mes de adquisición)\n",
        "cohort_retention = cohort_pivot.divide(cohort_pivot.iloc[:, 0], axis=0).round(3)\n",
        "\n",
        "print(cohort_retention)\n"
      ],
      "metadata": {
        "id": "pI3eKDu9_kzJ",
        "colab": {
          "base_uri": "https://localhost:8080/"
        },
        "outputId": "4c85f736-dddd-4cf3-f702-8bd838479a33"
      },
      "execution_count": 5,
      "outputs": [
        {
          "output_type": "stream",
          "name": "stdout",
          "text": [
            "venta_m    2023-01  2023-02  2023-03  2023-04  2023-05  2023-06  2023-07  \\\n",
            "cohorte_m                                                                  \n",
            "2023-01        1.0    0.946    0.964    0.959    0.969     0.96     0.96   \n",
            "2023-02        NaN      NaN      NaN      NaN      NaN      NaN      NaN   \n",
            "2023-03        NaN      NaN      NaN      NaN      NaN      NaN      NaN   \n",
            "\n",
            "venta_m    2023-08  2023-09  2023-10  ...  2024-03  2024-04  2024-05  2024-06  \\\n",
            "cohorte_m                             ...                                       \n",
            "2023-01      0.962    0.967    0.964  ...    0.962    0.951    0.967    0.963   \n",
            "2023-02        NaN      NaN      NaN  ...      NaN      NaN      NaN      NaN   \n",
            "2023-03        NaN      NaN      NaN  ...      NaN      NaN      NaN      NaN   \n",
            "\n",
            "venta_m    2024-07  2024-08  2024-09  2024-10  2024-11  2024-12  \n",
            "cohorte_m                                                        \n",
            "2023-01      0.964     0.97    0.959    0.968    0.953     0.96  \n",
            "2023-02        NaN      NaN      NaN      NaN      NaN      NaN  \n",
            "2023-03        NaN      NaN      NaN      NaN      NaN      NaN  \n",
            "\n",
            "[3 rows x 24 columns]\n"
          ]
        }
      ]
    },
    {
      "cell_type": "markdown",
      "source": [
        "Interpretación:\n",
        "\n",
        "Por ejemplo, para la cohorte de enero 2023:\n",
        "\n",
        "100% compró ese mes.\n",
        "\n",
        "96.4% compró en marzo 2023.\n",
        "\n",
        "~95–97% continuó comprando durante todo el periodo hasta diciembre 2024.\n",
        "\n",
        "Esto indica una retención bastante alta, lo cual es atípico si los datos fueran reales, y podría deberse a que se usaron datos simulados o replicados."
      ],
      "metadata": {
        "id": "SjLgm_3hAvgA"
      }
    },
    {
      "cell_type": "markdown",
      "source": [
        "#### c) Identifique ventas atípicas que podrían indicar errores de sistema o fraude. Utilice técnicas estadísticas (IQR, Z-score) o machine learning (Isolation Forest). Considere variables como cantidad, precio y comportamiento histórico.\n"
      ],
      "metadata": {
        "id": "FkZQ_r7jAxkv"
      }
    },
    {
      "cell_type": "code",
      "source": [
        "from sklearn.ensemble import IsolationForest\n",
        "import numpy as np\n",
        "\n",
        "# Selección de variables relevantes para detectar anomalías\n",
        "variables = ventas[[\"cantidad\", \"precio_unitario\", \"valor_total\"]].copy()\n",
        "\n",
        "# Reemplazar valores nulos si los hubiera (por ejemplo, por la mediana)\n",
        "variables = variables.fillna(variables.median(numeric_only=True))\n",
        "\n",
        "# -----------------------\n",
        "# MÉTODO 1: Z-score\n",
        "z_scores = (variables - variables.mean()) / variables.std()\n",
        "outliers_z = (np.abs(z_scores) > 3).any(axis=1)\n",
        "ventas[\"outlier_z\"] = outliers_z\n",
        "\n",
        "# -----------------------\n",
        "# MÉTODO 2: IQR\n",
        "Q1 = variables.quantile(0.25)\n",
        "Q3 = variables.quantile(0.75)\n",
        "IQR = Q3 - Q1\n",
        "outliers_iqr = ((variables < (Q1 - 1.5 * IQR)) | (variables > (Q3 + 1.5 * IQR))).any(axis=1)\n",
        "ventas[\"outlier_iqr\"] = outliers_iqr\n",
        "\n",
        "# -----------------------\n",
        "# MÉTODO 3: Isolation Forest\n",
        "modelo_iso = IsolationForest(contamination=0.01, random_state=42)\n",
        "ventas[\"outlier_iforest\"] = modelo_iso.fit_predict(variables) == -1\n",
        "\n",
        "# Consolidar resultados\n",
        "outliers_detectados = ventas[ventas[[\"outlier_z\", \"outlier_iqr\", \"outlier_iforest\"]].any(axis=1)]\n",
        "print(outliers_detectados)\n"
      ],
      "metadata": {
        "id": "7jXJyDpjXb85",
        "colab": {
          "base_uri": "https://localhost:8080/"
        },
        "outputId": "ad6ef7fa-065d-4e8b-f7eb-21c9f9180fbf"
      },
      "execution_count": 7,
      "outputs": [
        {
          "output_type": "stream",
          "name": "stdout",
          "text": [
            "        id_venta fecha_venta id_cliente id_producto id_tienda  cantidad  \\\n",
            "49            50  2024-05-16        809         172        44         3   \n",
            "608          609  2023-06-23        869         172        12         3   \n",
            "744          745  2023-10-10       1290          28        32         4   \n",
            "769          770  2023-08-20        368         172        46         3   \n",
            "790          791  2023-02-22       1266         233        26         1   \n",
            "...          ...         ...        ...         ...       ...       ...   \n",
            "157846    157847  2023-10-01        270          28        33         4   \n",
            "157902    157903  2024-01-25        407         113        39         4   \n",
            "157942    157943  2023-01-13        800         172        44         3   \n",
            "158141    158142  2023-01-08       1786          26        36         1   \n",
            "158173    158174  2023-11-24       1569         241        36         4   \n",
            "\n",
            "        precio_unitario  descuento  monto_venta   año  mes  margen_unitario  \\\n",
            "49            159814.54       0.00   479443.620  2024    5        159814.54   \n",
            "608           159814.54       0.00   479443.620  2023    6        159814.54   \n",
            "744           148172.80       0.10   533422.080  2023   10        148172.70   \n",
            "769           159814.54       0.15   407527.077  2023    8        159814.39   \n",
            "790            63904.91       0.10    57514.419  2023    2         63904.81   \n",
            "...                 ...        ...          ...   ...  ...              ...   \n",
            "157846        148172.80       0.05   563056.640  2023   10        148172.75   \n",
            "157902        148897.28       0.10   536030.208  2024    1        148897.18   \n",
            "157942        159814.54       0.15   407527.077  2023    1        159814.39   \n",
            "158141         62359.48       0.05    59241.506  2023    1         62359.43   \n",
            "158173        145871.89       0.05   554313.182  2023   11        145871.84   \n",
            "\n",
            "        valor_total  outlier_z  outlier_iqr  outlier_iforest  \n",
            "49        479443.62      False         True             True  \n",
            "608       479443.62      False         True             True  \n",
            "744       592690.80      False        False             True  \n",
            "769       479443.17      False         True             True  \n",
            "790        63904.81      False        False             True  \n",
            "...             ...        ...          ...              ...  \n",
            "157846    592691.00      False        False             True  \n",
            "157902    595588.72      False        False             True  \n",
            "157942    479443.17      False         True             True  \n",
            "158141     62359.43      False        False             True  \n",
            "158173    583487.36      False        False             True  \n",
            "\n",
            "[1550 rows x 16 columns]\n"
          ]
        }
      ]
    },
    {
      "cell_type": "markdown",
      "source": [
        "**Detección de ventas atípicas:** Se utilizaron tres métodos para identificar posibles anomalías:\n",
        "\n",
        "**1. Z-score:** Detección basada en desviaciones estándar extremas (>3).\n",
        "\n",
        "**2. IQR (Rango Intercualtílico):** Identifica valores fuera del rango típico intercuartílico.\n",
        "\n",
        "**3. Isolation Forest:** Algoritmo de machine learning no supervisado para detección de outliers.\n",
        "\n"
      ],
      "metadata": {
        "id": "56IwLpkZcmZ8"
      }
    },
    {
      "cell_type": "markdown",
      "source": [
        "**Interpretación:** Se identificaron transacciones que destacan por valores inusualmente altos en cantidad, precio o valor total."
      ],
      "metadata": {
        "id": "O2INnbG6dz8f"
      }
    },
    {
      "cell_type": "markdown",
      "source": [
        "#### d) Utilizando las características de clientes (edad, género, frecuencia de compra, valor promedio), implemente un análisis de segmentación que permita perfilar a los clientes. Interprete los cluster resultantes."
      ],
      "metadata": {
        "id": "d7jIg1URhck9"
      }
    },
    {
      "cell_type": "code",
      "source": [
        "from sklearn.preprocessing import StandardScaler\n",
        "from sklearn.cluster import KMeans\n",
        "\n",
        "# Unir ventas con clientes\n",
        "ventas_clientes = ventas.merge(clientes, on=\"id_cliente\", how=\"left\")\n",
        "\n",
        "# Calcular frecuencia y valor promedio de compra por cliente\n",
        "frecuencia = ventas_clientes.groupby(\"id_cliente\")[\"id_venta\"].nunique().rename(\"frecuencia\")\n",
        "valor_prom = ventas_clientes.groupby(\"id_cliente\")[\"valor_total\"].mean().rename(\"ticket_promedio\")\n",
        "\n",
        "# Armar base de segmentación\n",
        "clientes_seg = clientes.set_index(\"id_cliente\").join([frecuencia, valor_prom])\n",
        "clientes_seg = clientes_seg.dropna()\n",
        "\n",
        "# Codificar género (F=0, M=1)\n",
        "clientes_seg[\"genero_cod\"] = clientes_seg[\"genero\"].map({\"F\": 0, \"M\": 1})\n",
        "\n",
        "# Variables para clusterizar\n",
        "X_seg = clientes_seg[[\"edad\", \"genero_cod\", \"frecuencia\", \"ticket_promedio\"]]\n",
        "\n",
        "# Estandarizar variables\n",
        "scaler = StandardScaler()\n",
        "X_scaled = scaler.fit_transform(X_seg)\n",
        "\n",
        "# Aplicar KMeans (k=4)\n",
        "kmeans = KMeans(n_clusters=4, random_state=42, n_init=\"auto\")\n",
        "clientes_seg[\"cluster\"] = kmeans.fit_predict(X_scaled)\n",
        "\n",
        "# Perfil promedio por cluster\n",
        "perfil_cluster = clientes_seg.groupby(\"cluster\")[[\"edad\", \"frecuencia\", \"ticket_promedio\"]].mean().round(1)\n",
        "print(perfil_cluster)\n"
      ],
      "metadata": {
        "colab": {
          "base_uri": "https://localhost:8080/"
        },
        "id": "d2UaZUJ0dhE7",
        "outputId": "5d53ad8c-6894-4dbb-8171-8d32ea40ceb2"
      },
      "execution_count": 8,
      "outputs": [
        {
          "output_type": "stream",
          "name": "stdout",
          "text": [
            "         edad  frecuencia  ticket_promedio\n",
            "cluster                                   \n",
            "0        56.1        80.1         260941.4\n",
            "1        41.7        82.2         249932.3\n",
            "2        30.7        78.7         257354.4\n",
            "3        45.1        75.2         270906.9\n"
          ]
        }
      ]
    },
    {
      "cell_type": "code",
      "source": [
        "# Corregir parámetro n_init en KMeans (usar valor entero)\n",
        "kmeans = KMeans(n_clusters=4, random_state=42, n_init=10)\n",
        "clientes_seg[\"cluster\"] = kmeans.fit_predict(X_scaled)\n",
        "\n",
        "# Perfil promedio por cluster\n",
        "perfil_cluster = clientes_seg.groupby(\"cluster\")[[\"edad\", \"frecuencia\", \"ticket_promedio\"]].mean().round(1)\n",
        "print(perfil_cluster)"
      ],
      "metadata": {
        "id": "8wcaYsZOizZ5",
        "outputId": "5e3f5d06-c682-42fe-e1f2-4cacf4202ef3",
        "colab": {
          "base_uri": "https://localhost:8080/"
        }
      },
      "execution_count": 10,
      "outputs": [
        {
          "output_type": "stream",
          "name": "stdout",
          "text": [
            "         edad  frecuencia  ticket_promedio\n",
            "cluster                                   \n",
            "0        30.8        79.0         258831.5\n",
            "1        56.4        78.7         261234.0\n",
            "2        30.8        78.7         257449.1\n",
            "3        56.2        80.0         261134.1\n"
          ]
        }
      ]
    },
    {
      "cell_type": "markdown",
      "source": [
        "**Interpretación:**\n",
        "- Existen dos grandes segmentos etarios con comportamientos similares en frecuencia pero distintos en edad.\n",
        "- Segmentos de mayor edad tienden a tener tickets promedio ligeramente más altos."
      ],
      "metadata": {
        "id": "jh82FdEhjQYu"
      }
    },
    {
      "cell_type": "markdown",
      "source": [
        "#### e) Desarrolle un modelo de pronóstico para predecir las ventas semanales. Valide la precisión del modelo y proponga mejoras."
      ],
      "metadata": {
        "id": "5C8nBcMIkBSl"
      }
    },
    {
      "cell_type": "code",
      "source": [
        "# Convertir a fecha si no está\n",
        "ventas[\"fecha_venta\"] = pd.to_datetime(ventas[\"fecha_venta\"])\n",
        "\n",
        "# Agrupar por semana\n",
        "ventas_semanales = (\n",
        "    ventas.groupby(pd.Grouper(key=\"fecha_venta\", freq=\"W\"))[\"valor_total\"]\n",
        "    .sum()\n",
        "    .reset_index()\n",
        "    .rename(columns={\"fecha_venta\": \"fecha\", \"valor_total\": \"ventas\"})\n",
        ")\n",
        "\n",
        "# Crear variables de fecha\n",
        "ventas_semanales[\"semana\"] = ventas_semanales[\"fecha\"].dt.isocalendar().week\n",
        "ventas_semanales[\"año\"] = ventas_semanales[\"fecha\"].dt.year\n",
        "ventas_semanales[\"t\"] = range(len(ventas_semanales))  # índice temporal\n",
        "\n",
        "# Modelo de regresión lineal como base\n",
        "from sklearn.linear_model import LinearRegression\n",
        "from sklearn.metrics import mean_absolute_error\n",
        "\n",
        "X = ventas_semanales[[\"t\"]]\n",
        "y = ventas_semanales[\"ventas\"]\n",
        "\n",
        "modelo = LinearRegression()\n",
        "modelo.fit(X, y)\n",
        "\n",
        "# Predicción sobre los datos observados + 12 semanas futuras\n",
        "ventas_semanales[\"predichas\"] = modelo.predict(X)\n",
        "\n",
        "# Predecir 12 semanas futuras\n",
        "futuro = pd.DataFrame({\"t\": range(len(ventas_semanales), len(ventas_semanales)+12)})\n",
        "futuro[\"ventas_predichas\"] = modelo.predict(futuro[[\"t\"]])\n",
        "print(futuro)"
      ],
      "metadata": {
        "id": "dkEv3jyOkIu4",
        "outputId": "79bfbf33-f520-4f56-fea7-47a0c8df06fc",
        "colab": {
          "base_uri": "https://localhost:8080/"
        }
      },
      "execution_count": 11,
      "outputs": [
        {
          "output_type": "stream",
          "name": "stdout",
          "text": [
            "      t  ventas_predichas\n",
            "0   106      3.882315e+08\n",
            "1   107      3.882468e+08\n",
            "2   108      3.882621e+08\n",
            "3   109      3.882774e+08\n",
            "4   110      3.882927e+08\n",
            "5   111      3.883079e+08\n",
            "6   112      3.883232e+08\n",
            "7   113      3.883385e+08\n",
            "8   114      3.883538e+08\n",
            "9   115      3.883691e+08\n",
            "10  116      3.883844e+08\n",
            "11  117      3.883997e+08\n"
          ]
        }
      ]
    },
    {
      "cell_type": "markdown",
      "source": [
        "Se construyó un modelo de regresión lineal simple sobre las ventas semanales agregadas. A partir de esto:\n",
        "\n",
        " - Se entrenó el modelo con 106 semanas históricas.\n",
        "\n",
        " - Se proyectaron las siguientes 12 semanas.\n",
        "\n",
        "Las predicciones semanales están en un rango aproximado de $388 millones, con una tendencia ligeramente creciente."
      ],
      "metadata": {
        "id": "9DXQqmA5lYbZ"
      }
    },
    {
      "cell_type": "markdown",
      "source": [],
      "metadata": {
        "id": "lgX5RLfzrWRj"
      }
    }
  ]
}